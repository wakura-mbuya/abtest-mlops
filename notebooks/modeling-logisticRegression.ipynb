{
 "cells": [
  {
   "cell_type": "code",
   "execution_count": 1,
   "id": "2a2f3924",
   "metadata": {},
   "outputs": [],
   "source": [
    "import os\n",
    "import warnings\n",
    "import sys\n",
    "\n",
    "import dvc.api\n",
    "import pandas as pd\n",
    "import numpy as np\n",
    "from sklearn.metrics import mean_squared_error, mean_absolute_error, r2_score\n",
    "from sklearn.model_selection import train_test_split\n",
    "from sklearn.linear_model import ElasticNet, LogisticRegression\n",
    "from sklearn.preprocessing import LabelEncoder\n",
    "from fast_ml.model_development import train_valid_test_split\n",
    "from sklearn.tree import DecisionTreeClassifier\n",
    "from urllib.parse import urlparse\n",
    "import mlflow\n",
    "import mlflow.sklearn\n",
    "import logging"
   ]
  },
  {
   "cell_type": "code",
   "execution_count": 2,
   "id": "2ff7fa2f",
   "metadata": {},
   "outputs": [],
   "source": [
    "import warnings\n",
    "warnings.filterwarnings('ignore')"
   ]
  },
  {
   "cell_type": "code",
   "execution_count": 3,
   "id": "196c462d",
   "metadata": {},
   "outputs": [
    {
     "ename": "ImportError",
     "evalue": "cannot import name 'Logger' from 'logger' (C:\\Users\\USER\\AppData\\Local\\Programs\\Python\\Python310\\lib\\site-packages\\logger\\__init__.py)",
     "output_type": "error",
     "traceback": [
      "\u001b[1;31m---------------------------------------------------------------------------\u001b[0m",
      "\u001b[1;31mImportError\u001b[0m                               Traceback (most recent call last)",
      "Input \u001b[1;32mIn [3]\u001b[0m, in \u001b[0;36m<cell line: 2>\u001b[1;34m()\u001b[0m\n\u001b[0;32m      1\u001b[0m sys\u001b[38;5;241m.\u001b[39mpath\u001b[38;5;241m.\u001b[39mappend(os\u001b[38;5;241m.\u001b[39mpath\u001b[38;5;241m.\u001b[39mabspath(os\u001b[38;5;241m.\u001b[39mpath\u001b[38;5;241m.\u001b[39mjoin(\u001b[38;5;124m'\u001b[39m\u001b[38;5;124m../scripts\u001b[39m\u001b[38;5;124m'\u001b[39m)))\n\u001b[1;32m----> 2\u001b[0m \u001b[38;5;28;01mfrom\u001b[39;00m \u001b[38;5;21;01mml\u001b[39;00m \u001b[38;5;28;01mimport\u001b[39;00m Ml\n\u001b[0;32m      3\u001b[0m \u001b[38;5;28;01mfrom\u001b[39;00m \u001b[38;5;21;01mpreprocess\u001b[39;00m \u001b[38;5;28;01mimport\u001b[39;00m Preprocess\n",
      "File \u001b[1;32m~\\Documents\\10academy\\Week2\\forked-abtest-mlops\\abtest-mlops\\scripts\\ml.py:7\u001b[0m, in \u001b[0;36m<module>\u001b[1;34m\u001b[0m\n\u001b[0;32m      5\u001b[0m \u001b[38;5;28;01mimport\u001b[39;00m \u001b[38;5;21;01mpandas\u001b[39;00m \u001b[38;5;28;01mas\u001b[39;00m \u001b[38;5;21;01mpd\u001b[39;00m\n\u001b[0;32m      6\u001b[0m \u001b[38;5;28;01mimport\u001b[39;00m \u001b[38;5;21;01mseaborn\u001b[39;00m \u001b[38;5;28;01mas\u001b[39;00m \u001b[38;5;21;01msns\u001b[39;00m\n\u001b[1;32m----> 7\u001b[0m \u001b[38;5;28;01mfrom\u001b[39;00m \u001b[38;5;21;01mlogger\u001b[39;00m \u001b[38;5;28;01mimport\u001b[39;00m Logger\n\u001b[0;32m      8\u001b[0m \u001b[38;5;28;01mfrom\u001b[39;00m \u001b[38;5;21;01msklearn\u001b[39;00m\u001b[38;5;21;01m.\u001b[39;00m\u001b[38;5;21;01mmodel_selection\u001b[39;00m \u001b[38;5;28;01mimport\u001b[39;00m cross_validate\n\u001b[0;32m     11\u001b[0m \u001b[38;5;28;01mclass\u001b[39;00m \u001b[38;5;21;01mMl\u001b[39;00m:\n",
      "\u001b[1;31mImportError\u001b[0m: cannot import name 'Logger' from 'logger' (C:\\Users\\USER\\AppData\\Local\\Programs\\Python\\Python310\\lib\\site-packages\\logger\\__init__.py)"
     ]
    }
   ],
   "source": [
    "sys.path.append(os.path.abspath(os.path.join('../scripts')))\n",
    "from ml import Ml\n",
    "from preprocess import Preprocess"
   ]
  },
  {
   "cell_type": "code",
   "execution_count": 5,
   "id": "ecfd9720",
   "metadata": {},
   "outputs": [],
   "source": [
    "df = pd.read_csv('../data/AdSmartABdata.csv')\n",
    "# df"
   ]
  },
  {
   "cell_type": "code",
   "execution_count": null,
   "id": "aaf248b8",
   "metadata": {},
   "outputs": [],
   "source": [
    "# Get URL from DVC\n",
    "# path = 'data/AdSmartABdata.csv'\n",
    "# repo = 'https://github.com/jedisam/abtest-mlops'\n",
    "# version = '6db449393c9626c4fbca44946dfa103660685a27'"
   ]
  },
  {
   "cell_type": "code",
   "execution_count": null,
   "id": "1152816f",
   "metadata": {},
   "outputs": [],
   "source": [
    "# Load data from dvc using the dvc.api.Dataset class\n",
    "# data_url = dvc.api.get_url(\n",
    "#     path=path,\n",
    "#     repo=repo,\n",
    "#     rev=version\n",
    "# )\n",
    "# data_url"
   ]
  },
  {
   "cell_type": "code",
   "execution_count": null,
   "id": "d15914fe",
   "metadata": {},
   "outputs": [],
   "source": [
    "# Read CSV file from remote repository\n",
    "# data = pd.read_csv(data_url, sep=',')\n",
    "# data"
   ]
  },
  {
   "cell_type": "code",
   "execution_count": null,
   "id": "d08c96b9",
   "metadata": {},
   "outputs": [],
   "source": [
    "# change the date column to datetime\n",
    "data = preprocess.convert_to_datetime(data, 'date')"
   ]
  },
  {
   "cell_type": "markdown",
   "id": "1957a950",
   "metadata": {},
   "source": [
    "# Exploring the categorical columns"
   ]
  },
  {
   "cell_type": "code",
   "execution_count": null,
   "id": "da5d2e03",
   "metadata": {},
   "outputs": [],
   "source": [
    "relevant_rows = df.query('yes == 1 | no == 1')\n",
    "# relevant_rows"
   ]
  },
  {
   "cell_type": "code",
   "execution_count": null,
   "id": "1c3f08b8",
   "metadata": {},
   "outputs": [],
   "source": [
    "top2_platform = relevant_rows['platform_os'].value_counts().index.to_list()[:2]\n",
    "top2_platform"
   ]
  },
  {
   "cell_type": "code",
   "execution_count": null,
   "id": "629b90a9",
   "metadata": {},
   "outputs": [],
   "source": [
    "platform_list = []\n",
    "for platform in top2_platform:\n",
    "    platforms = relevant_rows.loc[relevant_rows['platform_os'] == platform]\n",
    "    platform_list.append(platforms)\n",
    "platform_six = platform_list[0]\n",
    "platform_five = platform_list[1]"
   ]
  },
  {
   "cell_type": "code",
   "execution_count": null,
   "id": "d0879922",
   "metadata": {},
   "outputs": [],
   "source": [
    "platform_six.to_csv('../data/platform_six.csv')\n",
    "platform_five.to_csv('../data/platform_five.csv')"
   ]
  },
  {
   "cell_type": "code",
   "execution_count": null,
   "id": "53dbecea",
   "metadata": {},
   "outputs": [],
   "source": [
    "top2_browser = relevant_rows['browser'].value_counts().index.to_list()[:2]\n",
    "top2_browser"
   ]
  },
  {
   "cell_type": "code",
   "execution_count": null,
   "id": "333fe00a",
   "metadata": {},
   "outputs": [],
   "source": [
    "browser_list = []\n",
    "for browser in top2_browser:\n",
    "    browsers = relevant_rows.loc[relevant_rows['browser'] == browser]\n",
    "    browser_list.append(browsers)\n",
    "chrome_mobile_data = browser_list[0]\n",
    "chrome_mobile_webview_data = browser_list[1]"
   ]
  },
  {
   "cell_type": "code",
   "execution_count": null,
   "id": "cd31d7a8",
   "metadata": {},
   "outputs": [],
   "source": [
    "chrome_mobile_data.to_csv('../data/chrome_mobile_data.csv')\n",
    "chrome_mobile_webview_data.to_csv('../data/chrome_mobile_webview_data.csv')"
   ]
  },
  {
   "cell_type": "code",
   "execution_count": null,
   "id": "385095bb",
   "metadata": {},
   "outputs": [],
   "source": [
    "df2 = relevant_rows.drop('no', axis=1)\n",
    "# df2"
   ]
  },
  {
   "cell_type": "code",
   "execution_count": null,
   "id": "a1f1f6d7",
   "metadata": {},
   "outputs": [],
   "source": [
    "df2.rename(columns = {'yes': 'clicked_or_not'}, inplace=True)\n",
    "# df2"
   ]
  },
  {
   "cell_type": "markdown",
   "id": "6fb870b8",
   "metadata": {},
   "source": [
    "# Splitting Numerical and categorical variables"
   ]
  },
  {
   "cell_type": "code",
   "execution_count": null,
   "id": "b51aee5c",
   "metadata": {},
   "outputs": [],
   "source": [
    "numerical_column = df2.select_dtypes(exclude=\"object\").columns.tolist()\n",
    "categorical_column = df2.select_dtypes(include=\"object\").columns.tolist()\n",
    "print(\"Numerical Columns:\", numerical_column)\n",
    "print(\"****************\")\n",
    "print(\"Categorical Columns:\", categorical_column)"
   ]
  },
  {
   "cell_type": "markdown",
   "id": "15e5477a",
   "metadata": {},
   "source": [
    "# Splitting the columns for one hot encoding and label encoding"
   ]
  },
  {
   "cell_type": "code",
   "execution_count": null,
   "id": "feac5b29",
   "metadata": {},
   "outputs": [],
   "source": [
    "to_one_hot_encoding = [col for col in categorical_column if df2[col].nunique() <= 10 and df2[col].nunique() > 2]\n",
    "\n",
    "# Get Categorical Column names thoose are not in \"to_one_hot_encoding\"\n",
    "to_label_encoding = [col for col in categorical_column if not col in to_one_hot_encoding]\n",
    "\n",
    "print(\"To One Hot Encoding:\", to_one_hot_encoding)\n",
    "print(\"To Label Encoding:\", to_label_encoding)\n"
   ]
  },
  {
   "cell_type": "code",
   "execution_count": null,
   "id": "bf124b06",
   "metadata": {},
   "outputs": [],
   "source": [
    "# We will use built in pandas function \"get_dummies()\" to simply to encode \"to_one_hot_encoding\" columns\n",
    "one_hot_encoded_columns = pd.get_dummies(df2[to_one_hot_encoding])\n",
    "# one_hot_encoded_columns"
   ]
  },
  {
   "cell_type": "code",
   "execution_count": null,
   "id": "6aa80363",
   "metadata": {},
   "outputs": [],
   "source": [
    "le = LabelEncoder()\n",
    "df2[to_label_encoding] = df2[to_label_encoding].apply(le.fit_transform)\n",
    "# df2"
   ]
  },
  {
   "cell_type": "code",
   "execution_count": null,
   "id": "6271090a",
   "metadata": {},
   "outputs": [],
   "source": [
    "# Label Encoding\n",
    "\n",
    "label_encoded_columns = []\n",
    "# For loop for each columns\n",
    "for col in to_label_encoding:\n",
    "    # We define new label encoder to each new column\n",
    "    le = LabelEncoder()\n",
    "    # Encode our data and create new Dataframe of it, \n",
    "    # notice that we gave column name in \"columns\" arguments\n",
    "    column_dataframe = pd.DataFrame(le.fit_transform(df2[col]), columns=[col] )\n",
    "    # and add new DataFrame to \"label_encoded_columns\" list\n",
    "    label_encoded_columns.append(column_dataframe)\n",
    "\n",
    "# Merge all data frames\n",
    "label_encoded_columns = pd.concat(label_encoded_columns, axis=1)\n",
    "# label_encoded_columns"
   ]
  },
  {
   "cell_type": "code",
   "execution_count": null,
   "id": "8d390cd2",
   "metadata": {},
   "outputs": [],
   "source": [
    "# Copy our DataFrame to X variable\n",
    "X = df2.copy()\n",
    "X.drop(['date', 'browser'], axis=1, inplace=True)\n",
    "# Merge DataFrames\n",
    "X = pd.concat([X, one_hot_encoded_columns], axis=1)\n",
    "print(\"All columns:\", X.columns.tolist())\n",
    "# X"
   ]
  },
  {
   "cell_type": "code",
   "execution_count": null,
   "id": "2af8b4b3",
   "metadata": {},
   "outputs": [],
   "source": [
    "# Define Y (This is the value we will predict)\n",
    "y = X[\"yes\"]\n",
    "\n",
    "# Droping \"class\" from X\n",
    "X.drop([\"yes\"], axis=1, inplace=True)\n",
    "# X"
   ]
  },
  {
   "cell_type": "code",
   "execution_count": null,
   "id": "be163154",
   "metadata": {},
   "outputs": [],
   "source": [
    "X_train, X_test, y_train, y_test = train_test_split(X, y, test_size = 0.3)\n",
    "X_train, X_val, y_train, y_val = train_test_split(X_train, y_train, test_size = 0.23)"
   ]
  },
  {
   "cell_type": "code",
   "execution_count": null,
   "id": "f789e4f8",
   "metadata": {},
   "outputs": [],
   "source": [
    "# print(X_train.shape)\n",
    "# print(X_test.shape)\n",
    "# print(X_val.shape)"
   ]
  },
  {
   "cell_type": "markdown",
   "id": "fb1c03b5",
   "metadata": {},
   "source": [
    "# Logistic Regression"
   ]
  },
  {
   "cell_type": "code",
   "execution_count": null,
   "id": "b676df02",
   "metadata": {},
   "outputs": [],
   "source": [
    "# Define Logistic Regression Model\n",
    "log = LogisticRegression()\n",
    "# We fit our model with our train data\n",
    "log.fit(X_train, y_train)\n",
    "# Then predict results from X_test data\n",
    "pred_log = log.predict(X_test)\n",
    "\n",
    "# See First 10 Predictions and They Actual Values\n",
    "print(\"Predicted:\", pred_log[0:10])\n",
    "print(\"Actual:\", y_test[0:10])"
   ]
  },
  {
   "cell_type": "code",
   "execution_count": null,
   "id": "a330cdf8",
   "metadata": {},
   "outputs": [],
   "source": [
    "from matplotlib import pyplot\n",
    "# get importance\n",
    "importance = log.coef_[0]\n",
    "# summarize feature importance\n",
    "for i,v in enumerate(importance):\n",
    "\tprint('Feature: %0d, Score: %.5f' % (i,v))\n",
    "# plot feature importance\n",
    "pyplot.bar([x for x in range(len(importance))], importance)\n",
    "pyplot.show()"
   ]
  },
  {
   "cell_type": "markdown",
   "id": "39ed42cc",
   "metadata": {},
   "source": [
    "## Confusion Matrices"
   ]
  },
  {
   "cell_type": "code",
   "execution_count": null,
   "id": "6ed13d5b",
   "metadata": {},
   "outputs": [],
   "source": [
    "cm_log = confusion_matrix(y_test, pred_log)\n",
    "print(\"Logistic Regression:\\n\", cm_log)"
   ]
  },
  {
   "cell_type": "markdown",
   "id": "b59611fb",
   "metadata": {},
   "source": [
    "## Accuracy scores"
   ]
  },
  {
   "cell_type": "code",
   "execution_count": null,
   "id": "0ad2c516",
   "metadata": {},
   "outputs": [],
   "source": [
    "# Logistic Regression\n",
    "acc_log = accuracy_score(y_test, pred_log)\n",
    "print(\"Logistic Regression accuracy:\", acc_log)"
   ]
  },
  {
   "cell_type": "code",
   "execution_count": null,
   "id": "5366bbcc",
   "metadata": {},
   "outputs": [],
   "source": []
  }
 ],
 "metadata": {
  "kernelspec": {
   "display_name": "Python 3 (ipykernel)",
   "language": "python",
   "name": "python3"
  },
  "language_info": {
   "codemirror_mode": {
    "name": "ipython",
    "version": 3
   },
   "file_extension": ".py",
   "mimetype": "text/x-python",
   "name": "python",
   "nbconvert_exporter": "python",
   "pygments_lexer": "ipython3",
   "version": "3.10.2"
  }
 },
 "nbformat": 4,
 "nbformat_minor": 5
}
