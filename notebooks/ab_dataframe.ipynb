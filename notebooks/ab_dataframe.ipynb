{
 "cells": [
  {
   "cell_type": "code",
   "execution_count": 117,
   "id": "558e7790",
   "metadata": {},
   "outputs": [],
   "source": [
    "# %load_ext autoreload\n",
    "# %autoreload 2"
   ]
  },
  {
   "cell_type": "code",
   "execution_count": 145,
   "id": "a8c5407e",
   "metadata": {},
   "outputs": [],
   "source": [
    "import pandas as pd\n",
    "import numpy as np\n",
    "import seaborn as sns\n",
    "import matplotlib.pyplot as plt\n",
    "sns.set_theme(style=\"ticks\", color_codes=True)\n",
    "import os, sys\n",
    "import datetime\n",
    "import seaborn as sns\n",
    "import scipy.stats as stats\n",
    "from scipy.stats import chi2_contingency, beta, binom\n",
    "from statsmodels.stats.proportion import proportions_ztest\n",
    "from matplotlib.lines import Line2D\n",
    "import plotly.graph_objs as go"
   ]
  },
  {
   "cell_type": "code",
   "execution_count": 144,
   "id": "71d087c1",
   "metadata": {},
   "outputs": [],
   "source": [
    "import warnings\n",
    "warnings.filterwarnings('ignore')"
   ]
  },
  {
   "cell_type": "code",
   "execution_count": 6,
   "id": "b726865a",
   "metadata": {},
   "outputs": [
    {
     "data": {
      "text/html": [
       "<div>\n",
       "<style scoped>\n",
       "    .dataframe tbody tr th:only-of-type {\n",
       "        vertical-align: middle;\n",
       "    }\n",
       "\n",
       "    .dataframe tbody tr th {\n",
       "        vertical-align: top;\n",
       "    }\n",
       "\n",
       "    .dataframe thead th {\n",
       "        text-align: right;\n",
       "    }\n",
       "</style>\n",
       "<table border=\"1\" class=\"dataframe\">\n",
       "  <thead>\n",
       "    <tr style=\"text-align: right;\">\n",
       "      <th></th>\n",
       "      <th>auction_id</th>\n",
       "      <th>experiment</th>\n",
       "      <th>date</th>\n",
       "      <th>hour</th>\n",
       "      <th>device_make</th>\n",
       "      <th>platform_os</th>\n",
       "      <th>browser</th>\n",
       "      <th>yes</th>\n",
       "      <th>no</th>\n",
       "    </tr>\n",
       "  </thead>\n",
       "  <tbody>\n",
       "    <tr>\n",
       "      <th>0</th>\n",
       "      <td>0008ef63-77a7-448b-bd1e-075f42c55e39</td>\n",
       "      <td>exposed</td>\n",
       "      <td>2020-07-10</td>\n",
       "      <td>8</td>\n",
       "      <td>Generic Smartphone</td>\n",
       "      <td>6</td>\n",
       "      <td>Chrome Mobile</td>\n",
       "      <td>0</td>\n",
       "      <td>0</td>\n",
       "    </tr>\n",
       "    <tr>\n",
       "      <th>1</th>\n",
       "      <td>000eabc5-17ce-4137-8efe-44734d914446</td>\n",
       "      <td>exposed</td>\n",
       "      <td>2020-07-07</td>\n",
       "      <td>10</td>\n",
       "      <td>Generic Smartphone</td>\n",
       "      <td>6</td>\n",
       "      <td>Chrome Mobile</td>\n",
       "      <td>0</td>\n",
       "      <td>0</td>\n",
       "    </tr>\n",
       "    <tr>\n",
       "      <th>2</th>\n",
       "      <td>0016d14a-ae18-4a02-a204-6ba53b52f2ed</td>\n",
       "      <td>exposed</td>\n",
       "      <td>2020-07-05</td>\n",
       "      <td>2</td>\n",
       "      <td>E5823</td>\n",
       "      <td>6</td>\n",
       "      <td>Chrome Mobile WebView</td>\n",
       "      <td>0</td>\n",
       "      <td>1</td>\n",
       "    </tr>\n",
       "    <tr>\n",
       "      <th>3</th>\n",
       "      <td>00187412-2932-4542-a8ef-3633901c98d9</td>\n",
       "      <td>control</td>\n",
       "      <td>2020-07-03</td>\n",
       "      <td>15</td>\n",
       "      <td>Samsung SM-A705FN</td>\n",
       "      <td>6</td>\n",
       "      <td>Facebook</td>\n",
       "      <td>0</td>\n",
       "      <td>0</td>\n",
       "    </tr>\n",
       "    <tr>\n",
       "      <th>4</th>\n",
       "      <td>001a7785-d3fe-4e11-a344-c8735acacc2c</td>\n",
       "      <td>control</td>\n",
       "      <td>2020-07-03</td>\n",
       "      <td>15</td>\n",
       "      <td>Generic Smartphone</td>\n",
       "      <td>6</td>\n",
       "      <td>Chrome Mobile</td>\n",
       "      <td>0</td>\n",
       "      <td>0</td>\n",
       "    </tr>\n",
       "    <tr>\n",
       "      <th>...</th>\n",
       "      <td>...</td>\n",
       "      <td>...</td>\n",
       "      <td>...</td>\n",
       "      <td>...</td>\n",
       "      <td>...</td>\n",
       "      <td>...</td>\n",
       "      <td>...</td>\n",
       "      <td>...</td>\n",
       "      <td>...</td>\n",
       "    </tr>\n",
       "    <tr>\n",
       "      <th>8072</th>\n",
       "      <td>ffea24ec-cec1-43fb-b1d1-8f93828c2be2</td>\n",
       "      <td>exposed</td>\n",
       "      <td>2020-07-05</td>\n",
       "      <td>7</td>\n",
       "      <td>Generic Smartphone</td>\n",
       "      <td>6</td>\n",
       "      <td>Chrome Mobile</td>\n",
       "      <td>0</td>\n",
       "      <td>0</td>\n",
       "    </tr>\n",
       "    <tr>\n",
       "      <th>8073</th>\n",
       "      <td>ffea3210-2c3e-426f-a77d-0aa72e73b20f</td>\n",
       "      <td>control</td>\n",
       "      <td>2020-07-03</td>\n",
       "      <td>15</td>\n",
       "      <td>Generic Smartphone</td>\n",
       "      <td>6</td>\n",
       "      <td>Chrome Mobile</td>\n",
       "      <td>0</td>\n",
       "      <td>0</td>\n",
       "    </tr>\n",
       "    <tr>\n",
       "      <th>8074</th>\n",
       "      <td>ffeaa0f1-1d72-4ba9-afb4-314b3b00a7c7</td>\n",
       "      <td>control</td>\n",
       "      <td>2020-07-04</td>\n",
       "      <td>9</td>\n",
       "      <td>Generic Smartphone</td>\n",
       "      <td>6</td>\n",
       "      <td>Chrome Mobile</td>\n",
       "      <td>0</td>\n",
       "      <td>0</td>\n",
       "    </tr>\n",
       "    <tr>\n",
       "      <th>8075</th>\n",
       "      <td>ffeeed62-3f7c-4a6e-8ba7-95d303d40969</td>\n",
       "      <td>exposed</td>\n",
       "      <td>2020-07-05</td>\n",
       "      <td>15</td>\n",
       "      <td>Samsung SM-A515F</td>\n",
       "      <td>6</td>\n",
       "      <td>Samsung Internet</td>\n",
       "      <td>0</td>\n",
       "      <td>0</td>\n",
       "    </tr>\n",
       "    <tr>\n",
       "      <th>8076</th>\n",
       "      <td>fffbb9ff-568a-41a5-a0c3-6866592f80d8</td>\n",
       "      <td>control</td>\n",
       "      <td>2020-07-10</td>\n",
       "      <td>14</td>\n",
       "      <td>Samsung SM-G960F</td>\n",
       "      <td>6</td>\n",
       "      <td>Facebook</td>\n",
       "      <td>0</td>\n",
       "      <td>0</td>\n",
       "    </tr>\n",
       "  </tbody>\n",
       "</table>\n",
       "<p>8077 rows × 9 columns</p>\n",
       "</div>"
      ],
      "text/plain": [
       "                                auction_id experiment        date  hour  \\\n",
       "0     0008ef63-77a7-448b-bd1e-075f42c55e39    exposed  2020-07-10     8   \n",
       "1     000eabc5-17ce-4137-8efe-44734d914446    exposed  2020-07-07    10   \n",
       "2     0016d14a-ae18-4a02-a204-6ba53b52f2ed    exposed  2020-07-05     2   \n",
       "3     00187412-2932-4542-a8ef-3633901c98d9    control  2020-07-03    15   \n",
       "4     001a7785-d3fe-4e11-a344-c8735acacc2c    control  2020-07-03    15   \n",
       "...                                    ...        ...         ...   ...   \n",
       "8072  ffea24ec-cec1-43fb-b1d1-8f93828c2be2    exposed  2020-07-05     7   \n",
       "8073  ffea3210-2c3e-426f-a77d-0aa72e73b20f    control  2020-07-03    15   \n",
       "8074  ffeaa0f1-1d72-4ba9-afb4-314b3b00a7c7    control  2020-07-04     9   \n",
       "8075  ffeeed62-3f7c-4a6e-8ba7-95d303d40969    exposed  2020-07-05    15   \n",
       "8076  fffbb9ff-568a-41a5-a0c3-6866592f80d8    control  2020-07-10    14   \n",
       "\n",
       "             device_make  platform_os                browser  yes  no  \n",
       "0     Generic Smartphone            6          Chrome Mobile    0   0  \n",
       "1     Generic Smartphone            6          Chrome Mobile    0   0  \n",
       "2                  E5823            6  Chrome Mobile WebView    0   1  \n",
       "3      Samsung SM-A705FN            6               Facebook    0   0  \n",
       "4     Generic Smartphone            6          Chrome Mobile    0   0  \n",
       "...                  ...          ...                    ...  ...  ..  \n",
       "8072  Generic Smartphone            6          Chrome Mobile    0   0  \n",
       "8073  Generic Smartphone            6          Chrome Mobile    0   0  \n",
       "8074  Generic Smartphone            6          Chrome Mobile    0   0  \n",
       "8075    Samsung SM-A515F            6       Samsung Internet    0   0  \n",
       "8076    Samsung SM-G960F            6               Facebook    0   0  \n",
       "\n",
       "[8077 rows x 9 columns]"
      ]
     },
     "execution_count": 6,
     "metadata": {},
     "output_type": "execute_result"
    }
   ],
   "source": [
    "df = pd.read_csv('../data/AdSmartABdata.csv')\n",
    "df"
   ]
  },
  {
   "cell_type": "code",
   "execution_count": 7,
   "id": "b6b93de7",
   "metadata": {},
   "outputs": [
    {
     "name": "stdout",
     "output_type": "stream",
     "text": [
      " There are 8077 rows and 9 columns\n"
     ]
    }
   ],
   "source": [
    "print(f\" There are {df.shape[0]} rows and {df.shape[1]} columns\")"
   ]
  },
  {
   "cell_type": "code",
   "execution_count": 8,
   "id": "67003448",
   "metadata": {},
   "outputs": [
    {
     "data": {
      "text/plain": [
       "auction_id     0\n",
       "experiment     0\n",
       "date           0\n",
       "hour           0\n",
       "device_make    0\n",
       "platform_os    0\n",
       "browser        0\n",
       "yes            0\n",
       "no             0\n",
       "dtype: int64"
      ]
     },
     "execution_count": 8,
     "metadata": {},
     "output_type": "execute_result"
    }
   ],
   "source": [
    "df.isna().sum()"
   ]
  },
  {
   "cell_type": "markdown",
   "id": "3b382195",
   "metadata": {},
   "source": [
    "# Data Exploration"
   ]
  },
  {
   "cell_type": "code",
   "execution_count": 9,
   "id": "212b074a",
   "metadata": {},
   "outputs": [
    {
     "data": {
      "text/plain": [
       "0    7505\n",
       "1     572\n",
       "Name: yes, dtype: int64"
      ]
     },
     "execution_count": 9,
     "metadata": {},
     "output_type": "execute_result"
    }
   ],
   "source": [
    "df['yes'].value_counts()"
   ]
  },
  {
   "cell_type": "code",
   "execution_count": 10,
   "id": "783bd8ae",
   "metadata": {},
   "outputs": [
    {
     "data": {
      "text/plain": [
       "0    7406\n",
       "1     671\n",
       "Name: no, dtype: int64"
      ]
     },
     "execution_count": 10,
     "metadata": {},
     "output_type": "execute_result"
    }
   ],
   "source": [
    "df['no'].value_counts()"
   ]
  },
  {
   "cell_type": "code",
   "execution_count": 11,
   "id": "99575bde",
   "metadata": {},
   "outputs": [],
   "source": [
    "# def yesno(df):\n",
    "#     count = 0\n",
    "#     if df['yes'] == df['no']:\n",
    "#         count = count + 1\n",
    "#     return count\n",
    "# yesno(df)"
   ]
  },
  {
   "cell_type": "code",
   "execution_count": 12,
   "id": "25d4e61b",
   "metadata": {},
   "outputs": [
    {
     "data": {
      "text/plain": [
       "control    4071\n",
       "exposed    4006\n",
       "Name: experiment, dtype: int64"
      ]
     },
     "execution_count": 12,
     "metadata": {},
     "output_type": "execute_result"
    }
   ],
   "source": [
    "df['experiment'].value_counts()"
   ]
  },
  {
   "cell_type": "code",
   "execution_count": 13,
   "id": "6b3806fc",
   "metadata": {},
   "outputs": [
    {
     "data": {
      "text/plain": [
       "Generic Smartphone     4743\n",
       "iPhone                  433\n",
       "Samsung SM-G960F        203\n",
       "Samsung SM-G973F        154\n",
       "Samsung SM-G950F        148\n",
       "                       ... \n",
       "Samsung SM-A505F          1\n",
       "D5803                     1\n",
       "Samsung SM-G6100          1\n",
       "HTC M10h                  1\n",
       "XiaoMi Redmi Note 5       1\n",
       "Name: device_make, Length: 270, dtype: int64"
      ]
     },
     "execution_count": 13,
     "metadata": {},
     "output_type": "execute_result"
    }
   ],
   "source": [
    "df['device_make'].value_counts()"
   ]
  },
  {
   "cell_type": "code",
   "execution_count": 14,
   "id": "794caf1d",
   "metadata": {},
   "outputs": [
    {
     "data": {
      "text/plain": [
       "0008ef63-77a7-448b-bd1e-075f42c55e39    1\n",
       "aa14b324-5c46-4b3a-8e75-18d78968495b    1\n",
       "aa84454c-a749-4c98-bf9f-1f99c04416af    1\n",
       "aa6ecb40-6a48-4c06-a611-4c9aa9023ea8    1\n",
       "aa6c6cda-e498-4e8f-b886-1d969bd376ea    1\n",
       "                                       ..\n",
       "56c87344-e876-41a3-9011-feb8f7e58cd5    1\n",
       "56bf959a-642f-4814-bf08-55d634554d5a    1\n",
       "56bd072c-a748-4355-b2d1-258d82d401b0    1\n",
       "56bb25c7-f778-4690-90be-034b1982fe03    1\n",
       "fffbb9ff-568a-41a5-a0c3-6866592f80d8    1\n",
       "Name: auction_id, Length: 8077, dtype: int64"
      ]
     },
     "execution_count": 14,
     "metadata": {},
     "output_type": "execute_result"
    }
   ],
   "source": [
    "df['auction_id'].value_counts()"
   ]
  },
  {
   "cell_type": "code",
   "execution_count": 15,
   "id": "d031f5eb",
   "metadata": {},
   "outputs": [
    {
     "data": {
      "text/plain": [
       "Chrome Mobile                 4554\n",
       "Chrome Mobile WebView         1489\n",
       "Samsung Internet               824\n",
       "Facebook                       764\n",
       "Mobile Safari                  337\n",
       "Chrome Mobile iOS               51\n",
       "Mobile Safari UI/WKWebView      44\n",
       "Chrome                           3\n",
       "Pinterest                        3\n",
       "Opera Mobile                     3\n",
       "Opera Mini                       1\n",
       "Edge Mobile                      1\n",
       "Android                          1\n",
       "Firefox Mobile                   1\n",
       "Puffin                           1\n",
       "Name: browser, dtype: int64"
      ]
     },
     "execution_count": 15,
     "metadata": {},
     "output_type": "execute_result"
    }
   ],
   "source": [
    "df['browser'].value_counts()"
   ]
  },
  {
   "cell_type": "code",
   "execution_count": 16,
   "id": "78978b1e",
   "metadata": {},
   "outputs": [
    {
     "data": {
      "text/html": [
       "<div>\n",
       "<style scoped>\n",
       "    .dataframe tbody tr th:only-of-type {\n",
       "        vertical-align: middle;\n",
       "    }\n",
       "\n",
       "    .dataframe tbody tr th {\n",
       "        vertical-align: top;\n",
       "    }\n",
       "\n",
       "    .dataframe thead th {\n",
       "        text-align: right;\n",
       "    }\n",
       "</style>\n",
       "<table border=\"1\" class=\"dataframe\">\n",
       "  <thead>\n",
       "    <tr style=\"text-align: right;\">\n",
       "      <th></th>\n",
       "      <th>hour</th>\n",
       "      <th>platform_os</th>\n",
       "      <th>yes</th>\n",
       "      <th>no</th>\n",
       "    </tr>\n",
       "  </thead>\n",
       "  <tbody>\n",
       "    <tr>\n",
       "      <th>count</th>\n",
       "      <td>8077.000000</td>\n",
       "      <td>8077.000000</td>\n",
       "      <td>8077.000000</td>\n",
       "      <td>8077.000000</td>\n",
       "    </tr>\n",
       "    <tr>\n",
       "      <th>mean</th>\n",
       "      <td>11.615080</td>\n",
       "      <td>5.947134</td>\n",
       "      <td>0.070818</td>\n",
       "      <td>0.083075</td>\n",
       "    </tr>\n",
       "    <tr>\n",
       "      <th>std</th>\n",
       "      <td>5.734879</td>\n",
       "      <td>0.224333</td>\n",
       "      <td>0.256537</td>\n",
       "      <td>0.276013</td>\n",
       "    </tr>\n",
       "    <tr>\n",
       "      <th>min</th>\n",
       "      <td>0.000000</td>\n",
       "      <td>5.000000</td>\n",
       "      <td>0.000000</td>\n",
       "      <td>0.000000</td>\n",
       "    </tr>\n",
       "    <tr>\n",
       "      <th>25%</th>\n",
       "      <td>7.000000</td>\n",
       "      <td>6.000000</td>\n",
       "      <td>0.000000</td>\n",
       "      <td>0.000000</td>\n",
       "    </tr>\n",
       "    <tr>\n",
       "      <th>50%</th>\n",
       "      <td>13.000000</td>\n",
       "      <td>6.000000</td>\n",
       "      <td>0.000000</td>\n",
       "      <td>0.000000</td>\n",
       "    </tr>\n",
       "    <tr>\n",
       "      <th>75%</th>\n",
       "      <td>15.000000</td>\n",
       "      <td>6.000000</td>\n",
       "      <td>0.000000</td>\n",
       "      <td>0.000000</td>\n",
       "    </tr>\n",
       "    <tr>\n",
       "      <th>max</th>\n",
       "      <td>23.000000</td>\n",
       "      <td>7.000000</td>\n",
       "      <td>1.000000</td>\n",
       "      <td>1.000000</td>\n",
       "    </tr>\n",
       "  </tbody>\n",
       "</table>\n",
       "</div>"
      ],
      "text/plain": [
       "              hour  platform_os          yes           no\n",
       "count  8077.000000  8077.000000  8077.000000  8077.000000\n",
       "mean     11.615080     5.947134     0.070818     0.083075\n",
       "std       5.734879     0.224333     0.256537     0.276013\n",
       "min       0.000000     5.000000     0.000000     0.000000\n",
       "25%       7.000000     6.000000     0.000000     0.000000\n",
       "50%      13.000000     6.000000     0.000000     0.000000\n",
       "75%      15.000000     6.000000     0.000000     0.000000\n",
       "max      23.000000     7.000000     1.000000     1.000000"
      ]
     },
     "execution_count": 16,
     "metadata": {},
     "output_type": "execute_result"
    }
   ],
   "source": [
    "# Prints Summary of Numerical Data\n",
    "df.describe()"
   ]
  },
  {
   "cell_type": "code",
   "execution_count": 17,
   "id": "ee6c632b",
   "metadata": {},
   "outputs": [],
   "source": [
    "# Importing the warning library to ignore the warning messages that are not that much important\n",
    "\n",
    "import warnings\n",
    "warnings.filterwarnings('ignore')"
   ]
  },
  {
   "cell_type": "code",
   "execution_count": 18,
   "id": "ddd49885",
   "metadata": {},
   "outputs": [
    {
     "data": {
      "text/html": [
       "<div>\n",
       "<style scoped>\n",
       "    .dataframe tbody tr th:only-of-type {\n",
       "        vertical-align: middle;\n",
       "    }\n",
       "\n",
       "    .dataframe tbody tr th {\n",
       "        vertical-align: top;\n",
       "    }\n",
       "\n",
       "    .dataframe thead th {\n",
       "        text-align: right;\n",
       "    }\n",
       "</style>\n",
       "<table border=\"1\" class=\"dataframe\">\n",
       "  <thead>\n",
       "    <tr style=\"text-align: right;\">\n",
       "      <th></th>\n",
       "      <th>auction_id</th>\n",
       "      <th>experiment</th>\n",
       "      <th>date</th>\n",
       "      <th>device_make</th>\n",
       "      <th>browser</th>\n",
       "    </tr>\n",
       "  </thead>\n",
       "  <tbody>\n",
       "    <tr>\n",
       "      <th>count</th>\n",
       "      <td>8077</td>\n",
       "      <td>8077</td>\n",
       "      <td>8077</td>\n",
       "      <td>8077</td>\n",
       "      <td>8077</td>\n",
       "    </tr>\n",
       "    <tr>\n",
       "      <th>unique</th>\n",
       "      <td>8077</td>\n",
       "      <td>2</td>\n",
       "      <td>8</td>\n",
       "      <td>270</td>\n",
       "      <td>15</td>\n",
       "    </tr>\n",
       "    <tr>\n",
       "      <th>top</th>\n",
       "      <td>0008ef63-77a7-448b-bd1e-075f42c55e39</td>\n",
       "      <td>control</td>\n",
       "      <td>2020-07-03</td>\n",
       "      <td>Generic Smartphone</td>\n",
       "      <td>Chrome Mobile</td>\n",
       "    </tr>\n",
       "    <tr>\n",
       "      <th>freq</th>\n",
       "      <td>1</td>\n",
       "      <td>4071</td>\n",
       "      <td>2015</td>\n",
       "      <td>4743</td>\n",
       "      <td>4554</td>\n",
       "    </tr>\n",
       "  </tbody>\n",
       "</table>\n",
       "</div>"
      ],
      "text/plain": [
       "                                  auction_id experiment        date  \\\n",
       "count                                   8077       8077        8077   \n",
       "unique                                  8077          2           8   \n",
       "top     0008ef63-77a7-448b-bd1e-075f42c55e39    control  2020-07-03   \n",
       "freq                                       1       4071        2015   \n",
       "\n",
       "               device_make        browser  \n",
       "count                 8077           8077  \n",
       "unique                 270             15  \n",
       "top     Generic Smartphone  Chrome Mobile  \n",
       "freq                  4743           4554  "
      ]
     },
     "execution_count": 18,
     "metadata": {},
     "output_type": "execute_result"
    }
   ],
   "source": [
    "# Prints Summary of Categorical Data\n",
    "df.describe(include=[np.object])"
   ]
  },
  {
   "cell_type": "code",
   "execution_count": 19,
   "id": "8f4aa52f",
   "metadata": {},
   "outputs": [
    {
     "data": {
      "text/plain": [
       "array(['exposed', 'control'], dtype=object)"
      ]
     },
     "execution_count": 19,
     "metadata": {},
     "output_type": "execute_result"
    }
   ],
   "source": [
    "# showing the experiment unique values\n",
    "df['experiment'].unique()"
   ]
  },
  {
   "cell_type": "code",
   "execution_count": 20,
   "id": "6ced0a08",
   "metadata": {},
   "outputs": [],
   "source": [
    "# showing the device unique values\n",
    "# df['device_make'].unique()"
   ]
  },
  {
   "cell_type": "code",
   "execution_count": 21,
   "id": "9217dd2b",
   "metadata": {},
   "outputs": [
    {
     "data": {
      "text/plain": [
       "experiment  auction_id                            date        hour  device_make         platform_os  browser                yes  no\n",
       "control     00187412-2932-4542-a8ef-3633901c98d9  2020-07-03  15    Samsung SM-A705FN   6            Facebook               0    0     1\n",
       "            fd1b8ea5-5397-4fae-a7f6-3c11fa3cef70  2020-07-03  15    Samsung SM-G975F    6            Samsung Internet       1    0     1\n",
       "            ff07272c-a61c-4e8f-99fc-7159bd2bcab1  2020-07-03  15    Samsung SM-A105FN   6            Chrome Mobile WebView  0    0     1\n",
       "            ffea3210-2c3e-426f-a77d-0aa72e73b20f  2020-07-03  15    Generic Smartphone  6            Chrome Mobile          0    0     1\n",
       "            ffcea781-a6e7-4f98-9d90-f95377270476  2020-07-03  15    Samsung SM-N976B    6            Facebook               0    0     1\n",
       "                                                                                                                                      ..\n",
       "exposed     a9b2b55e-16e0-4715-ad8a-5bfca764b0cc  2020-07-04  2     Generic Smartphone  6            Chrome Mobile WebView  0    0     1\n",
       "            a9ae870a-0366-40db-b28b-ea5e6ec79dce  2020-07-05  14    Generic Smartphone  6            Chrome Mobile          1    0     1\n",
       "            a9ad3ead-0546-42e8-b348-eac437f7941f  2020-07-04  12    VF-795              6            Chrome Mobile WebView  0    0     1\n",
       "            a98ffc07-6388-48ec-b8dd-1d9f77fd07d3  2020-07-09  22    Samsung SM-A600FN   6            Chrome Mobile WebView  1    0     1\n",
       "            ffeeed62-3f7c-4a6e-8ba7-95d303d40969  2020-07-05  15    Samsung SM-A515F    6            Samsung Internet       0    0     1\n",
       "Length: 8077, dtype: int64"
      ]
     },
     "execution_count": 21,
     "metadata": {},
     "output_type": "execute_result"
    }
   ],
   "source": [
    "user_grp = df.groupby(['experiment']) \n",
    "user_grp.value_counts()"
   ]
  },
  {
   "cell_type": "code",
   "execution_count": 22,
   "id": "c265290e",
   "metadata": {},
   "outputs": [
    {
     "data": {
      "text/plain": [
       "<AxesSubplot:>"
      ]
     },
     "execution_count": 22,
     "metadata": {},
     "output_type": "execute_result"
    },
    {
     "data": {
      "image/png": "[encoded data removed]",
      "text/plain": [
       "<Figure size 432x288 with 1 Axes>"
      ]
     },
     "metadata": {},
     "output_type": "display_data"
    }
   ],
   "source": [
    "user_grp.get_group('exposed')['yes'].value_counts()[0:5].plot(kind='barh')"
   ]
  },
  {
   "cell_type": "code",
   "execution_count": 23,
   "id": "eb89bd7b",
   "metadata": {},
   "outputs": [
    {
     "data": {
      "text/plain": [
       "experiment  yes\n",
       "control     0      3807\n",
       "            1       264\n",
       "exposed     0      3698\n",
       "            1       308\n",
       "Name: yes, dtype: int64"
      ]
     },
     "execution_count": 23,
     "metadata": {},
     "output_type": "execute_result"
    }
   ],
   "source": [
    "user_grp['yes'].value_counts()"
   ]
  },
  {
   "cell_type": "markdown",
   "id": "fe1b4b56",
   "metadata": {},
   "source": [
    "### This graph shows from the exposed users who takes the new advert quiz only around 308 of the users says yes and the rest says no"
   ]
  },
  {
   "cell_type": "code",
   "execution_count": 24,
   "id": "ea1f8110",
   "metadata": {},
   "outputs": [
    {
     "data": {
      "text/plain": [
       "<AxesSubplot:>"
      ]
     },
     "execution_count": 24,
     "metadata": {},
     "output_type": "execute_result"
    },
    {
     "data": {
      "image/png": "[encoded data removed]",
      "text/plain": [
       "<Figure size 432x288 with 1 Axes>"
      ]
     },
     "metadata": {},
     "output_type": "display_data"
    }
   ],
   "source": [
    "user_grp.get_group('control')['yes'].value_counts()[0:5].plot(kind='barh')"
   ]
  },
  {
   "cell_type": "code",
   "execution_count": 25,
   "id": "3e38d6d8",
   "metadata": {},
   "outputs": [
    {
     "data": {
      "text/plain": [
       "<AxesSubplot:>"
      ]
     },
     "execution_count": 25,
     "metadata": {},
     "output_type": "execute_result"
    },
    {
     "data": {
      "image/png": "[encoded data removed]",
      "text/plain": [
       "<Figure size 432x288 with 1 Axes>"
      ]
     },
     "metadata": {},
     "output_type": "display_data"
    }
   ],
   "source": [
    "user_grp.get_group('control')['yes'].value_counts()[0:5].plot(kind='barh')"
   ]
  },
  {
   "cell_type": "markdown",
   "id": "98f0b1dc",
   "metadata": {},
   "source": [
    "### This graph shows from the control users who takes the dummy add only around 264 of the users says yes and the rest says no"
   ]
  },
  {
   "cell_type": "code",
   "execution_count": 26,
   "id": "10a151eb",
   "metadata": {},
   "outputs": [
    {
     "data": {
      "text/plain": [
       "<seaborn.axisgrid.FacetGrid at 0x20f62d3d120>"
      ]
     },
     "execution_count": 26,
     "metadata": {},
     "output_type": "execute_result"
    },
    {
     "data": {
      "image/png": "[encoded data removed]",
      "text/plain": [
       "<Figure size 441.1x360 with 1 Axes>"
      ]
     },
     "metadata": {},
     "output_type": "display_data"
    }
   ],
   "source": [
    "sns.catplot(x=\"no\", y=\"yes\", hue=\"experiment\", kind=\"bar\", data=df)"
   ]
  },
  {
   "cell_type": "code",
   "execution_count": 27,
   "id": "e6fcbb09",
   "metadata": {},
   "outputs": [
    {
     "data": {
      "text/plain": [
       "<seaborn.axisgrid.FacetGrid at 0x20f62bd33d0>"
      ]
     },
     "execution_count": 27,
     "metadata": {},
     "output_type": "execute_result"
    },
    {
     "data": {
      "image/png": "[encoded data removed]",
      "text/plain": [
       "<Figure size 441.1x360 with 1 Axes>"
      ]
     },
     "metadata": {},
     "output_type": "display_data"
    }
   ],
   "source": [
    "sns.catplot(x=\"yes\", y=\"no\", hue=\"experiment\", kind=\"bar\", data=df)"
   ]
  },
  {
   "cell_type": "code",
   "execution_count": 28,
   "id": "6f6ef986",
   "metadata": {},
   "outputs": [
    {
     "data": {
      "text/plain": [
       "(array([4006.,    0.,    0.,    0.,    0.,    0.,    0.,    0.,    0.,\n",
       "           0.,    0.,    0.,    0.,    0.,    0.,    0.,    0.,    0.,\n",
       "           0.,    0.,    0.,    0.,    0.,    0.,    0.,    0.,    0.,\n",
       "           0.,    0.,    0.,    0.,    0.,    0.,    0.,    0.,    0.,\n",
       "           0.,    0.,    0.,    0.,    0.,    0.,    0.,    0.,    0.,\n",
       "           0.,    0.,    0.,    0., 4071.]),\n",
       " array([0.  , 0.02, 0.04, 0.06, 0.08, 0.1 , 0.12, 0.14, 0.16, 0.18, 0.2 ,\n",
       "        0.22, 0.24, 0.26, 0.28, 0.3 , 0.32, 0.34, 0.36, 0.38, 0.4 , 0.42,\n",
       "        0.44, 0.46, 0.48, 0.5 , 0.52, 0.54, 0.56, 0.58, 0.6 , 0.62, 0.64,\n",
       "        0.66, 0.68, 0.7 , 0.72, 0.74, 0.76, 0.78, 0.8 , 0.82, 0.84, 0.86,\n",
       "        0.88, 0.9 , 0.92, 0.94, 0.96, 0.98, 1.  ]),\n",
       " <BarContainer object of 50 artists>)"
      ]
     },
     "execution_count": 28,
     "metadata": {},
     "output_type": "execute_result"
    },
    {
     "data": {
      "image/png": "[encoded data removed]",
      "text/plain": [
       "<Figure size 432x288 with 1 Axes>"
      ]
     },
     "metadata": {},
     "output_type": "display_data"
    }
   ],
   "source": [
    "plt.hist(df['experiment'], bins=50)"
   ]
  },
  {
   "cell_type": "markdown",
   "id": "af782270",
   "metadata": {},
   "source": [
    "### This graph shows the control user are a little bit higer than the exposed users"
   ]
  },
  {
   "cell_type": "markdown",
   "id": "af015010",
   "metadata": {},
   "source": [
    "# A/B HYPOTHESIS TESTING"
   ]
  },
  {
   "cell_type": "code",
   "execution_count": 119,
   "id": "e702eb0b",
   "metadata": {},
   "outputs": [
    {
     "ename": "ImportError",
     "evalue": "cannot import name 'Logger' from 'logger' (C:\\Users\\USER\\AppData\\Local\\Programs\\Python\\Python310\\lib\\site-packages\\logger\\__init__.py)",
     "output_type": "error",
     "traceback": [
      "\u001b[1;31m---------------------------------------------------------------------------\u001b[0m",
      "\u001b[1;31mImportError\u001b[0m                               Traceback (most recent call last)",
      "Input \u001b[1;32mIn [119]\u001b[0m, in \u001b[0;36m<cell line: 2>\u001b[1;34m()\u001b[0m\n\u001b[0;32m      1\u001b[0m sys\u001b[38;5;241m.\u001b[39mpath\u001b[38;5;241m.\u001b[39mappend(os\u001b[38;5;241m.\u001b[39mpath\u001b[38;5;241m.\u001b[39mabspath(os\u001b[38;5;241m.\u001b[39mpath\u001b[38;5;241m.\u001b[39mjoin(\u001b[38;5;124m'\u001b[39m\u001b[38;5;124m../scripts\u001b[39m\u001b[38;5;124m'\u001b[39m)))\n\u001b[1;32m----> 2\u001b[0m \u001b[38;5;28;01mfrom\u001b[39;00m \u001b[38;5;21;01mplot\u001b[39;00m \u001b[38;5;28;01mimport\u001b[39;00m Plot\n",
      "File \u001b[1;32m~\\Documents\\10academy\\Week2\\ABtesting\\scripts\\plot.py:7\u001b[0m, in \u001b[0;36m<module>\u001b[1;34m\u001b[0m\n\u001b[0;32m      5\u001b[0m \u001b[38;5;28;01mimport\u001b[39;00m \u001b[38;5;21;01mpandas\u001b[39;00m \u001b[38;5;28;01mas\u001b[39;00m \u001b[38;5;21;01mpd\u001b[39;00m\n\u001b[0;32m      6\u001b[0m \u001b[38;5;28;01mimport\u001b[39;00m \u001b[38;5;21;01mseaborn\u001b[39;00m \u001b[38;5;28;01mas\u001b[39;00m \u001b[38;5;21;01msns\u001b[39;00m\n\u001b[1;32m----> 7\u001b[0m \u001b[38;5;28;01mfrom\u001b[39;00m \u001b[38;5;21;01mlogger\u001b[39;00m \u001b[38;5;28;01mimport\u001b[39;00m Logger\n\u001b[0;32m      8\u001b[0m g \u001b[38;5;241m=\u001b[39m \u001b[38;5;124m'\u001b[39m\u001b[38;5;124mresr\u001b[39m\u001b[38;5;124m'\u001b[39m\n\u001b[0;32m      9\u001b[0m c \u001b[38;5;241m=\u001b[39m Logger\u001b[38;5;241m.\u001b[39mbelieve()\n",
      "\u001b[1;31mImportError\u001b[0m: cannot import name 'Logger' from 'logger' (C:\\Users\\USER\\AppData\\Local\\Programs\\Python\\Python310\\lib\\site-packages\\logger\\__init__.py)"
     ]
    }
   ],
   "source": [
    "sys.path.append(os.path.abspath(os.path.join('../scripts')))\n",
    "from plot import Plot"
   ]
  },
  {
   "cell_type": "markdown",
   "id": "a79f7709",
   "metadata": {},
   "source": [
    "#### Spliting numerical and categorical data"
   ]
  },
  {
   "cell_type": "code",
   "execution_count": 29,
   "id": "3dfa0d8f",
   "metadata": {},
   "outputs": [
    {
     "name": "stdout",
     "output_type": "stream",
     "text": [
      "Numerical Columns: ['hour', 'platform_os', 'yes', 'no']\n",
      "****************\n",
      "Categorical Columns: ['auction_id', 'experiment', 'date', 'device_make', 'browser']\n"
     ]
    }
   ],
   "source": [
    "numerical_column = df.select_dtypes(exclude=\"object\").columns.tolist()\n",
    "categorical_column = df.select_dtypes(include=\"object\").columns.tolist()\n",
    "print(\"Numerical Columns:\", numerical_column)\n",
    "print(\"****************\")\n",
    "print(\"Categorical Columns:\", categorical_column)"
   ]
  },
  {
   "cell_type": "markdown",
   "id": "2d08da71",
   "metadata": {},
   "source": [
    "##  The test given for the two groups\n",
    "control user =>  who have been shown the dummy ad\n",
    "exposed user => users who have been shown a creative (ad) that was designed by SmartAd for the client. \n",
    "\n",
    "NUll HYPOTHESIS = NO\n",
    "ALTERNATE HYTPOTHESIS = YES"
   ]
  },
  {
   "cell_type": "code",
   "execution_count": 30,
   "id": "021177ef",
   "metadata": {},
   "outputs": [
    {
     "data": {
      "text/plain": [
       "0.0830753992819116"
      ]
     },
     "execution_count": 30,
     "metadata": {},
     "output_type": "execute_result"
    }
   ],
   "source": [
    "### FIND THE MEAN VALUE FOR THE NULL HYPOTHESIS\n",
    "df['no'].mean()"
   ]
  },
  {
   "cell_type": "code",
   "execution_count": 31,
   "id": "93832ebf",
   "metadata": {},
   "outputs": [
    {
     "data": {
      "text/html": [
       "<div>\n",
       "<style scoped>\n",
       "    .dataframe tbody tr th:only-of-type {\n",
       "        vertical-align: middle;\n",
       "    }\n",
       "\n",
       "    .dataframe tbody tr th {\n",
       "        vertical-align: top;\n",
       "    }\n",
       "\n",
       "    .dataframe thead th {\n",
       "        text-align: right;\n",
       "    }\n",
       "</style>\n",
       "<table border=\"1\" class=\"dataframe\">\n",
       "  <thead>\n",
       "    <tr style=\"text-align: right;\">\n",
       "      <th></th>\n",
       "      <th>hour</th>\n",
       "      <th>platform_os</th>\n",
       "      <th>yes</th>\n",
       "      <th>no</th>\n",
       "    </tr>\n",
       "  </thead>\n",
       "  <tbody>\n",
       "    <tr>\n",
       "      <th>count</th>\n",
       "      <td>8077.000000</td>\n",
       "      <td>8077.000000</td>\n",
       "      <td>8077.000000</td>\n",
       "      <td>8077.000000</td>\n",
       "    </tr>\n",
       "    <tr>\n",
       "      <th>mean</th>\n",
       "      <td>11.615080</td>\n",
       "      <td>5.947134</td>\n",
       "      <td>0.070818</td>\n",
       "      <td>0.083075</td>\n",
       "    </tr>\n",
       "    <tr>\n",
       "      <th>std</th>\n",
       "      <td>5.734879</td>\n",
       "      <td>0.224333</td>\n",
       "      <td>0.256537</td>\n",
       "      <td>0.276013</td>\n",
       "    </tr>\n",
       "    <tr>\n",
       "      <th>min</th>\n",
       "      <td>0.000000</td>\n",
       "      <td>5.000000</td>\n",
       "      <td>0.000000</td>\n",
       "      <td>0.000000</td>\n",
       "    </tr>\n",
       "    <tr>\n",
       "      <th>25%</th>\n",
       "      <td>7.000000</td>\n",
       "      <td>6.000000</td>\n",
       "      <td>0.000000</td>\n",
       "      <td>0.000000</td>\n",
       "    </tr>\n",
       "    <tr>\n",
       "      <th>50%</th>\n",
       "      <td>13.000000</td>\n",
       "      <td>6.000000</td>\n",
       "      <td>0.000000</td>\n",
       "      <td>0.000000</td>\n",
       "    </tr>\n",
       "    <tr>\n",
       "      <th>75%</th>\n",
       "      <td>15.000000</td>\n",
       "      <td>6.000000</td>\n",
       "      <td>0.000000</td>\n",
       "      <td>0.000000</td>\n",
       "    </tr>\n",
       "    <tr>\n",
       "      <th>max</th>\n",
       "      <td>23.000000</td>\n",
       "      <td>7.000000</td>\n",
       "      <td>1.000000</td>\n",
       "      <td>1.000000</td>\n",
       "    </tr>\n",
       "  </tbody>\n",
       "</table>\n",
       "</div>"
      ],
      "text/plain": [
       "              hour  platform_os          yes           no\n",
       "count  8077.000000  8077.000000  8077.000000  8077.000000\n",
       "mean     11.615080     5.947134     0.070818     0.083075\n",
       "std       5.734879     0.224333     0.256537     0.276013\n",
       "min       0.000000     5.000000     0.000000     0.000000\n",
       "25%       7.000000     6.000000     0.000000     0.000000\n",
       "50%      13.000000     6.000000     0.000000     0.000000\n",
       "75%      15.000000     6.000000     0.000000     0.000000\n",
       "max      23.000000     7.000000     1.000000     1.000000"
      ]
     },
     "execution_count": 31,
     "metadata": {},
     "output_type": "execute_result"
    }
   ],
   "source": [
    "df.describe()"
   ]
  },
  {
   "attachments": {
    "image.png": {
     "image/png": "[encoded data removed]"
    }
   },
   "cell_type": "markdown",
   "id": "319a8756",
   "metadata": {},
   "source": [
    "### ![image.png](attachment:image.png)\n",
    "\n",
    "The most common value for alpha is 5%, i.e. 0.05"
   ]
  },
  {
   "cell_type": "markdown",
   "id": "4594abf6",
   "metadata": {},
   "source": [
    "#value of z at 0.05 making it .025 for 2 sided we know from z-table +_ 1.96"
   ]
  },
  {
   "cell_type": "code",
   "execution_count": 32,
   "id": "8591613b",
   "metadata": {},
   "outputs": [],
   "source": [
    "sampData=df['no'][np.argsort(np.random.random(1000))[:70]]"
   ]
  },
  {
   "cell_type": "code",
   "execution_count": 33,
   "id": "a096829b",
   "metadata": {},
   "outputs": [],
   "source": [
    "meanSampData=sampData.mean()\n",
    "hypMean=0.083075\n",
    "N=70\n",
    "standPop=np.std(df['no'])"
   ]
  },
  {
   "cell_type": "code",
   "execution_count": 34,
   "id": "8e15e040",
   "metadata": {},
   "outputs": [
    {
     "data": {
      "text/plain": [
       "0.5130676901327472"
      ]
     },
     "execution_count": 34,
     "metadata": {},
     "output_type": "execute_result"
    }
   ],
   "source": [
    "import math\n",
    "z = (meanSampData-hypMean)/(standPop/math.sqrt(N))\n",
    "z"
   ]
  },
  {
   "cell_type": "markdown",
   "id": "7fe5ab9d",
   "metadata": {},
   "source": [
    ". as calculated z score 0.08 is less than 1.96 (tabular z score), we reject the null hypothesis\n",
    "\n",
    ". if also we would have got -0.08 is less than -1.96 we would have rejected the Null hypothesis\n",
    "\n",
    ". Observed value = 0.08\n",
    "\n",
    ". Critical value = 1.96"
   ]
  },
  {
   "cell_type": "markdown",
   "id": "04ebcb52",
   "metadata": {},
   "source": [
    "## p-value (observed significance level)\n",
    "The p-value defines the smallest probability (alpha) for which the null hypothesis can be rejected.\n",
    "let say alpha is 0.05"
   ]
  },
  {
   "cell_type": "markdown",
   "id": "1d60dd7b",
   "metadata": {},
   "source": [
    "as observed z value is 0.08 from the ztable the probabilty of z is .0808\n",
    "\n",
    "p-value = 1-0.0808 = 0.9192\n",
    "p-value is greater that 0.5 which means failed to reject the null hypothesis"
   ]
  },
  {
   "cell_type": "code",
   "execution_count": 60,
   "id": "893fa871",
   "metadata": {},
   "outputs": [
    {
     "data": {
      "text/plain": [
       "1243"
      ]
     },
     "execution_count": 60,
     "metadata": {},
     "output_type": "execute_result"
    }
   ],
   "source": [
    "# Filter out users that were not interacting\n",
    "non_interact_users = df.query('yes == 1 | no == 1')\n",
    "non_interact_users.shape[0]"
   ]
  },
  {
   "cell_type": "code",
   "execution_count": 73,
   "id": "abc2fd5e",
   "metadata": {},
   "outputs": [],
   "source": [
    "# Divide a dataframe by exposed and control group\n",
    "exposed = relevant_rows.query('experiment == \"exposed\"')\n",
    "control = relevant_rows.query('experiment == \"control\"')"
   ]
  },
  {
   "cell_type": "code",
   "execution_count": 61,
   "id": "968211bf",
   "metadata": {},
   "outputs": [
    {
     "name": "stdout",
     "output_type": "stream",
     "text": [
      "The total number of exposed group 1243\n",
      "The total number of exposed group 657\n",
      "The total number of exposed group 586\n"
     ]
    }
   ],
   "source": [
    "print(f'The total number of exposed group {non_interact_users.shape[0]}')\n",
    "print(f'The total number of exposed group {exposed.shape[0]}')\n",
    "print(f'The total number of exposed group {control.shape[0]}')"
   ]
  },
  {
   "cell_type": "code",
   "execution_count": 67,
   "id": "bb24fcd4",
   "metadata": {},
   "outputs": [
    {
     "name": "stdout",
     "output_type": "stream",
     "text": [
      "The conversion rate in the exposed group is equal to 46.88%\n",
      "The conversion rate in the exposed group is equal to 45.05%\n"
     ]
    }
   ],
   "source": [
    "### checking the conversion rate\n",
    "exposed_mean = '{0:.2f}%'.format(exposed.yes.mean()*100)\n",
    "control_mean = '{0:.2f}%'.format(control.yes.mean()*100)\n",
    "print('The conversion rate in the exposed group is  {}'.format(exposed_mean))\n",
    "print('The conversion rate in the exposed group is  {}'.format(control_mean))"
   ]
  },
  {
   "cell_type": "code",
   "execution_count": 85,
   "id": "4a67804e",
   "metadata": {},
   "outputs": [
    {
     "name": "stdout",
     "output_type": "stream",
     "text": [
      "The differnce of conversion rate between the two groups 1.83%\n"
     ]
    }
   ],
   "source": [
    "### DIFFERENCE BETWEEN EXPOSED GROUP MEAN AND CONTROLLED MEAN\n",
    "diff = exposed.yes.mean() - control.yes.mean()\n",
    "diff = diff * 100\n",
    "print('The differnce of conversion rate between the two groups' ,\"{0:.2f}%\".format(diff))\n"
   ]
  },
  {
   "cell_type": "code",
   "execution_count": 87,
   "id": "03712752",
   "metadata": {},
   "outputs": [
    {
     "name": "stdout",
     "output_type": "stream",
     "text": [
      "The number of converted exposed group 308\n",
      "The number of converted control group 264\n"
     ]
    }
   ],
   "source": [
    "### Assign the conversion value of the group\n",
    "exposed_converted = exposed.query('yes == 1')\n",
    "control_converted = control.query('yes == 1')\n",
    "print(f'The number of converted exposed group {exposed_converted.shape[0]}')\n",
    "print(f'The number of converted control group {control_converted.shape[0]}')"
   ]
  },
  {
   "cell_type": "code",
   "execution_count": 90,
   "id": "aee5198f",
   "metadata": {},
   "outputs": [
    {
     "name": "stdout",
     "output_type": "stream",
     "text": [
      "P-value is equal to 25.92%\n"
     ]
    }
   ],
   "source": [
    "#storing number of conversions for exposed and control groups as numpy arrays\n",
    "count = np.array([exposed_converted.shape[0], control_converted.shape[0]])\n",
    "#storing sample sizes of exposed and control group as numpy arrays\n",
    "nobs = np.array([exposed.shape[0], control.shape[0]])\n",
    "#storing results of z test in variables\n",
    "stat, p_val = proportions_ztest(count, nobs, alternative = 'larger')\n",
    "p_form = '{0:.2f}%'.format(p_val*100)\n",
    "print('P-value is equal to {}'.format(p_form))"
   ]
  },
  {
   "cell_type": "code",
   "execution_count": 97,
   "id": "9dd475f5",
   "metadata": {},
   "outputs": [
    {
     "data": {
      "text/plain": [
       "array([-0.00931602,  0.04185128, -0.00495163, ...,  0.00963829,\n",
       "       -0.00969796,  0.00275293])"
      ]
     },
     "execution_count": 97,
     "metadata": {},
     "output_type": "execute_result"
    }
   ],
   "source": [
    "# Draw 100000 samples from binominal distribution\n",
    "exposed_simulation = np.random.binomial(exposed.shape[0], exposed.yes.mean(), 100000)/exposed.shape[0]\n",
    "control_simulation = np.random.binomial(control.shape[0], control.yes.mean(), 100000)/control.shape[0]\n",
    "p_diffs = exposed_simulation - control_simulation\n",
    "diffs = np.array(p_diffs)\n",
    "\n",
    "#Creation of normal distribution centered at zero\n",
    "null_vals = np.random.normal(0, np.std(diffs), len(diffs))\n",
    "null_vals"
   ]
  },
  {
   "cell_type": "code",
   "execution_count": 135,
   "id": "1ab720ae",
   "metadata": {},
   "outputs": [],
   "source": [
    "def statplot(data, lim, obs_stat, title):\n",
    "    \"\"\"\n",
    "    This function creates a plot, that represents sampling distribution. \n",
    "    This plot is formatted and has main statistics on it\n",
    "    Arguments:\n",
    "    data = array\n",
    "    lim = height of the plot\n",
    "    obs_stat = observed statistic\n",
    "    title = chart title\n",
    "    \"\"\"\n",
    "    \n",
    "    #Create a kdeplot\n",
    "    plt.figure(figsize=(12,4), tight_layout=True)\n",
    "    ax = sns.kdeplot(data, linewidth = 0.8, color = 'black')\n",
    "    \n",
    "    # Simple formatting\n",
    "    frame = ['right', 'left', 'top']\n",
    "    for i in frame:\n",
    "        ax.spines[i].set_visible(False)\n",
    "\n",
    "    plt.title(title)\n",
    "    plt.ylabel('')\n",
    "    plt.yticks([], [])\n",
    "    \n",
    "    # Legend\n",
    "    line = Line2D([0], [0], color='red', linestyle = '-', label='observed statistic')\n",
    "    line_dashed = Line2D([0], [0], color='black', linestyle = '--', label='mean and standard deviation')\n",
    "    plt.legend(handles=[line, line_dashed], loc='upper left');\n",
    "    \n",
    "    # Create a list of 3 standard deviation to the left and to the right and mean\n",
    "    std_list = []\n",
    "    std_list_format = []\n",
    "    for i in range(-3,4):\n",
    "        std_dev = np.std(data) * i + np.mean(data)\n",
    "        std_list.append(std_dev)\n",
    "        std_list_format.append('{0:.3f}'.format(std_dev) + '\\n {} std'.format(i))\n",
    "        \n",
    "    # Create a list of corresponding y values\n",
    "    data_x, data_y = ax.lines[0].get_data()\n",
    "    height = []\n",
    "    for i in std_list:\n",
    "        height.append(np.interp(i, data_x, data_y))\n",
    "        \n",
    "    # Plotting vertical lines representing std deviations \n",
    "    for a, b in zip(std_list, height):\n",
    "        plt.axvline(a, 0, b/lim, color = 'black', alpha = 1, linewidth = 0.8, linestyle = '--')\n",
    "        plt.plot(a, b, marker = 'o', color = 'blue')\n",
    "    \n",
    "    # Plotting observed statistic\n",
    "    obs_line_height = np.interp(obs_stat, data_x, data_y)\n",
    "    plt.axvline(obs_stat, 0, obs_line_height/lim, color = 'red', alpha = 1, linewidth = 0.8, linestyle = '-')\n",
    "    plt.plot(obs_stat, obs_line_height, marker = 'o', color = 'red')\n",
    "            \n",
    "    # Plotting x ticks\n",
    "    x_ticks = std_list\n",
    "    x_labels = std_list_format\n",
    "    plt.xticks(x_ticks, x_labels)\n",
    "    plt.ylim(0,lim)\n",
    "    plt.show()"
   ]
  },
  {
   "cell_type": "code",
   "execution_count": 131,
   "id": "67747b67",
   "metadata": {},
   "outputs": [],
   "source": [
    "def shading(data, left, right, color):\n",
    "    \n",
    "    \"\"\"\n",
    "    This function shades areas of the kde plot.\n",
    "    Arguments:\n",
    "    data = array\n",
    "    left = left boundary of the area to be shaded\n",
    "    right = right boundary of the area to be shaded\n",
    "    color = color\n",
    "    \"\"\"\n",
    "    \n",
    "    #Shading areas\n",
    "    kde = stats.gaussian_kde(data)\n",
    "    shade = np.linspace(left, right, 100)\n",
    "    plt.fill_between(shade, kde(shade), color = color, alpha = 0.5);"
   ]
  },
  {
   "cell_type": "code",
   "execution_count": 132,
   "id": "59720b25",
   "metadata": {},
   "outputs": [
    {
     "data": {
      "image/png": "[encoded data removed]",
      "text/plain": [
       "<Figure size 864x288 with 1 Axes>"
      ]
     },
     "metadata": {},
     "output_type": "display_data"
    }
   ],
   "source": [
    "# Plotting the sampling distribution\n",
    "statplot(null_vals, 15, diff, 'Sampling Distribution of the difference in sample proportions under the null hypothesis')\n",
    "shading(null_vals, diff, null_vals.max(),'#aaffb5')\n",
    "shading(null_vals, null_vals.min(), diff,'#cceefb')\n",
    "plt.text(0.075, 12, \"P-value = {}\".format(p_form), color = 'black', size = 15);"
   ]
  },
  {
   "cell_type": "markdown",
   "id": "c8db7da6",
   "metadata": {},
   "source": [
    "The probability that the observed difference falls into the sampling distribution of the null hypothesis is equal to 25.92% (0.25). Given that our level of significance is 5% (0.05), we fail to reject the null hypothesis, ie we do not have enough evidence to conclude that the conversion rate with the new creative ad is higher than with the dummy one."
   ]
  },
  {
   "cell_type": "code",
   "execution_count": 133,
   "id": "1a5b774c",
   "metadata": {},
   "outputs": [
    {
     "name": "stdout",
     "output_type": "stream",
     "text": [
      "The 90% confidence interval falls between 1.7819955018933502 and 1.8751283572034834.\n"
     ]
    }
   ],
   "source": [
    "# Calculate z statistic\n",
    "zscore = stats.norm.ppf(1 - .05)\n",
    "\n",
    "# Calculate mean proportion for exposed group\n",
    "p1 = exposed.yes.mean()\n",
    "# Calculate mean proportion for control group\n",
    "p2 = control.yes.mean()\n",
    "# Calculate distance from the mean\n",
    "distance_from_mean = ((p1*(1-p1)/exposed.yes.shape[0]) + (p2*(1-p2)/control.yes.shape[0])) ** 0.5 * zscore\n",
    "\n",
    "# Lower boarder of the interval\n",
    "low = diff - distance_from_mean\n",
    "# Higher boarder of the interval\n",
    "high = diff + distance_from_mean\n",
    "\n",
    "print('The 90% confidence interval falls between {} and {}.'.format(low, high))"
   ]
  },
  {
   "cell_type": "code",
   "execution_count": 136,
   "id": "e370b464",
   "metadata": {},
   "outputs": [
    {
     "data": {
      "image/png": "[encoded data removed]",
      "text/plain": [
       "<Figure size 864x288 with 1 Axes>"
      ]
     },
     "metadata": {},
     "output_type": "display_data"
    },
    {
     "data": {
      "image/png": "[encoded data removed]",
      "text/plain": [
       "<Figure size 432x288 with 1 Axes>"
      ]
     },
     "metadata": {},
     "output_type": "display_data"
    }
   ],
   "source": [
    "# Plotting the confidence interval\n",
    "statplot(diffs, 15, np.mean(null_vals), '90% confidence interval')\n",
    "shading(diffs, diffs.min(), low, '#aaffb5')\n",
    "shading(diffs, low, high, '#cceefb')\n",
    "shading(diffs, high, diffs.max(), '#aaffb5')"
   ]
  },
  {
   "cell_type": "markdown",
   "id": "5600b6b6",
   "metadata": {},
   "source": [
    "The null hypothesis is within the confidence interval, as can be shown. We can anticipate 90% of confidence intervals overlapping with zero. Our true proportional difference is zero under the null hypothesis. As a result, the P-value is greater than the 10% significance limit. (It would be 5% for the one-tailed test). As a result, I lack sufficient evidence to reject the null hypothesis and propose the alternative hypothesis."
   ]
  },
  {
   "cell_type": "code",
   "execution_count": 138,
   "id": "1c7eee99",
   "metadata": {},
   "outputs": [
    {
     "name": "stdout",
     "output_type": "stream",
     "text": [
      "control conversion percentage: 6.48%\n",
      "Treatment conversion percentage: 7.69%\n",
      "Lift percentage: 18.56%\n"
     ]
    }
   ],
   "source": [
    "# Experiment 1:\n",
    "\n",
    "control_conversion = df[(df['experiment'] == 'control') & (df['yes'] == 1)].shape[0] / df[(df['experiment'] == 'control')].shape[0]\n",
    "treatment_conversion = df[(df['experiment'] == 'exposed') & (df['yes'] == 1)].shape[0] / df[(df['experiment'] == 'exposed')].shape[0]\n",
    "lift = (treatment_conversion - control_conversion) / control_conversion\n",
    "\n",
    "\n",
    "print(f\"control conversion percentage: {round(control_conversion * 100, 2)}%\")\n",
    "print(f\"Treatment conversion percentage: {round(treatment_conversion * 100, 2)}%\")\n",
    "print(f\"Lift percentage: {round(lift * 100, 2)}%\")"
   ]
  },
  {
   "cell_type": "code",
   "execution_count": 140,
   "id": "12d7a948",
   "metadata": {},
   "outputs": [
    {
     "data": {
      "text/plain": [
       "array([[264, 322],\n",
       "       [308, 349]])"
      ]
     },
     "execution_count": 140,
     "metadata": {},
     "output_type": "execute_result"
    }
   ],
   "source": [
    "# Create Contngency Table for chi square test\n",
    "control_converted = df[(df['experiment'] == 'control') & (df['yes'] == 1)].shape[0]\n",
    "treatment_converted = df[(df['experiment'] == 'exposed') & (df['yes'] == 1)].shape[0]\n",
    "control_non_converted = df[(df['experiment'] == 'control') & (df['no'] == 1)].shape[0]\n",
    "treatment_not_converted = df[(df['experiment'] == 'exposed') & (df['no'] == 1)].shape[0]\n",
    "\n",
    "contingency_table = np.array([[control_converted, control_non_converted], [treatment_converted, treatment_not_converted]])\n",
    "contingency_table "
   ]
  },
  {
   "cell_type": "code",
   "execution_count": 141,
   "id": "637bfafe",
   "metadata": {},
   "outputs": [
    {
     "data": {
      "text/plain": [
       "(0.41690289642162887, 0.518486498219898)"
      ]
     },
     "execution_count": 141,
     "metadata": {},
     "output_type": "execute_result"
    }
   ],
   "source": [
    "chi, p_value, _, _ = chi2_contingency(contingency_table, correction=False)\n",
    "chi, p_value"
   ]
  },
  {
   "cell_type": "markdown",
   "id": "9778e050",
   "metadata": {},
   "source": [
    "Since the p_value > 0.05, we cannot reject null hypothesis. Hence, we cannot conclude if there exists a relationship between the control and treatment groups."
   ]
  },
  {
   "cell_type": "code",
   "execution_count": 142,
   "id": "616f340a",
   "metadata": {},
   "outputs": [
    {
     "name": "stdout",
     "output_type": "stream",
     "text": [
      "51.85% probability that a more extreme chi square than 0.417 would have occured by chance\n"
     ]
    }
   ],
   "source": [
    "print(f\"{round(p_value * 100, 2)}% probability that a more extreme chi square than {round(chi, 3)} would have occured by chance\")"
   ]
  },
  {
   "cell_type": "code",
   "execution_count": null,
   "id": "63cdaefa",
   "metadata": {},
   "outputs": [],
   "source": []
  }
 ],
 "metadata": {
  "kernelspec": {
   "display_name": "Python 3 (ipykernel)",
   "language": "python",
   "name": "python3"
  },
  "language_info": {
   "codemirror_mode": {
    "name": "ipython",
    "version": 3
   },
   "file_extension": ".py",
   "mimetype": "text/x-python",
   "name": "python",
   "nbconvert_exporter": "python",
   "pygments_lexer": "ipython3",
   "version": "3.10.2"
  }
 },
 "nbformat": 4,
 "nbformat_minor": 5
}
